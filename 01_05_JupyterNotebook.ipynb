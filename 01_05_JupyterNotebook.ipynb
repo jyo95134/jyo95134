{
 "cells": [
  {
   "cell_type": "markdown",
   "id": "5701b64c-07ec-472a-8d0e-8735f72e8dae",
   "metadata": {},
   "source": [
    "# Title  \n",
    "## Title"
   ]
  },
  {
   "cell_type": "code",
   "execution_count": 5,
   "id": "073e6d52-ff27-4bae-b1a7-e10d32909bba",
   "metadata": {},
   "outputs": [
    {
     "name": "stdout",
     "output_type": "stream",
     "text": [
      "Doing some data science!\n"
     ]
    }
   ],
   "source": [
    "\n",
    "print('Doing some data science!')"
   ]
  },
  {
   "cell_type": "code",
   "execution_count": null,
   "id": "a24f3953-0adf-457c-b552-3e4ec78586cb",
   "metadata": {},
   "outputs": [],
   "source": []
  }
 ],
 "metadata": {
  "kernelspec": {
   "display_name": "Python 3 (ipykernel)",
   "language": "python",
   "name": "python3"
  },
  "language_info": {
   "codemirror_mode": {
    "name": "ipython",
    "version": 3
   },
   "file_extension": ".py",
   "mimetype": "text/x-python",
   "name": "python",
   "nbconvert_exporter": "python",
   "pygments_lexer": "ipython3",
   "version": "3.12.2"
  },
  "vscode": {
   "interpreter": {
    "hash": "949777d72b0d2535278d3dc13498b2535136f6dfe0678499012e853ee9abcab1"
   }
  }
 },
 "nbformat": 4,
 "nbformat_minor": 5
}
